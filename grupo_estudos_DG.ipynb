{
  "nbformat": 4,
  "nbformat_minor": 0,
  "metadata": {
    "colab": {
      "provenance": []
    },
    "kernelspec": {
      "name": "python3",
      "display_name": "Python 3"
    },
    "language_info": {
      "name": "python"
    }
  },
  "cells": [
    {
      "cell_type": "markdown",
      "source": [
        "# Descomplicando a análise de grandes bases de dados com PySpark\n",
        "\n"
      ],
      "metadata": {
        "id": "RpQdXN2saBr6"
      }
    },
    {
      "cell_type": "markdown",
      "source": [
        "## O que é PySpark?\n",
        "\n",
        "Uma API em Python para executar o Apache Spark. Sua linguagem nativa é em Scala.\n",
        "\n",
        "## Vantagens\n",
        "\n",
        "- Era Big Data: possibilita a análise de grandes volumes de dados em uma velocidade maior, pela capacidade de processamento e computação paralela.\n",
        "- Ferramenta open source.\n",
        "- Possui várias bibliotecas de machine learning.\n",
        "- Pode ser integrado com pandas e o scikit-learn.\n",
        "\n",
        "## Materiais de estudo:\n",
        "- [Documentação PySpark](https://spark.apache.org/docs/latest/api/python/index.html)\n",
        "- [Curso Udemy](https://www.udemy.com/share/109rKi3@BlHd2R3ilxuCjNjgJopHIwo2PvBkcVWjC3nn5rqzjnPi-kUgD9BWDs0JfIKabpJ_/)\n",
        "- Livro \"Advanced Analytics with PySpark: Patterns for Learning from Data at Scale using python and spark\"\n",
        "- Medium artigos, linkedin..."
      ],
      "metadata": {
        "id": "3XlNx5WzaKB0"
      }
    },
    {
      "cell_type": "markdown",
      "source": [
        "## Instalação do PySpark aqui no Colab\n"
      ],
      "metadata": {
        "id": "QqXzrirX-cE2"
      }
    },
    {
      "cell_type": "code",
      "execution_count": null,
      "metadata": {
        "id": "ZiPQMpYDTJq1"
      },
      "outputs": [],
      "source": [
        "# 1. Instalar as dependências\n",
        "!apt-get install openjdk-8-jdk-headless -qq > /dev/null\n",
        "!wget -q https://archive.apache.org/dist/spark/spark-3.1.1/spark-3.1.1-bin-hadoop3.2.tgz\n",
        "!tar xf spark-3.1.1-bin-hadoop3.2.tgz\n",
        "!pip install -q findspark"
      ]
    },
    {
      "cell_type": "code",
      "source": [
        "# 2. Configurar as variáveis de ambiente\n",
        "import os\n",
        "os.environ[\"JAVA_HOME\"] = \"/usr/lib/jvm/java-8-openjdk-amd64\"\n",
        "os.environ[\"SPARK_HOME\"] = \"/content/spark-3.1.1-bin-hadoop3.2\""
      ],
      "metadata": {
        "id": "NhT4YN5W-rMH"
      },
      "execution_count": null,
      "outputs": []
    },
    {
      "cell_type": "code",
      "source": [
        "# 3. Começar a usar!\n",
        "\n",
        "#encontrar o spark aqui no ambiente\n",
        "import findspark\n",
        "findspark.init()\n",
        "\n",
        "#criar uma sessão spark aqui no local\n",
        "from pyspark.sql import SparkSession\n",
        "sc = SparkSession.builder.master(\"local[*]\").getOrCreate()"
      ],
      "metadata": {
        "id": "3pteoCgI_dAU"
      },
      "execution_count": null,
      "outputs": []
    },
    {
      "cell_type": "markdown",
      "source": [
        "## Carregando os dados\n",
        "\n",
        "Como exemplo estou utilizando os dados sobre preços de roupas, presente no Kaggle: https://www.kaggle.com/datasets/mrsimple07/clothes-price-prediction?resource=download"
      ],
      "metadata": {
        "id": "ta5FhxrjFipG"
      }
    },
    {
      "cell_type": "code",
      "source": [
        "from pyspark.sql import functions as F\n",
        "\n",
        "df = sc.read.csv(\"/content/clothes_price_prediction_data.csv\", header = True)"
      ],
      "metadata": {
        "id": "LObnjVEdDFQ3"
      },
      "execution_count": null,
      "outputs": []
    },
    {
      "cell_type": "code",
      "source": [
        "df.show(5, truncate=False)"
      ],
      "metadata": {
        "colab": {
          "base_uri": "https://localhost:8080/"
        },
        "id": "TtYFoaoMGb_V",
        "outputId": "c2b03e4c-3720-487f-b4f3-40b83899af84"
      },
      "execution_count": null,
      "outputs": [
        {
          "output_type": "stream",
          "name": "stdout",
          "text": [
            "+------------+--------+-----+----+--------+-----+\n",
            "|Brand       |Category|Color|Size|Material|Price|\n",
            "+------------+--------+-----+----+--------+-----+\n",
            "|New Balance |Dress   |White|XS  |Nylon   |182  |\n",
            "|New Balance |Jeans   |Black|XS  |Silk    |57   |\n",
            "|Under Armour|Dress   |Red  |M   |Wool    |127  |\n",
            "|Nike        |Shoes   |Green|M   |Cotton  |77   |\n",
            "|Adidas      |Sweater |White|M   |Nylon   |113  |\n",
            "+------------+--------+-----+----+--------+-----+\n",
            "only showing top 5 rows\n",
            "\n"
          ]
        }
      ]
    },
    {
      "cell_type": "markdown",
      "source": [
        "## Comandos iniciais"
      ],
      "metadata": {
        "id": "0M-l3iPPG-1i"
      }
    },
    {
      "cell_type": "code",
      "source": [
        "df.printSchema()"
      ],
      "metadata": {
        "colab": {
          "base_uri": "https://localhost:8080/"
        },
        "id": "MRDH3mG5GeGk",
        "outputId": "f31cd3e7-afe2-453b-f723-05f7cc738001"
      },
      "execution_count": null,
      "outputs": [
        {
          "output_type": "stream",
          "name": "stdout",
          "text": [
            "root\n",
            " |-- Brand: string (nullable = true)\n",
            " |-- Category: string (nullable = true)\n",
            " |-- Color: string (nullable = true)\n",
            " |-- Size: string (nullable = true)\n",
            " |-- Material: string (nullable = true)\n",
            " |-- Price: string (nullable = true)\n",
            "\n"
          ]
        }
      ]
    },
    {
      "cell_type": "code",
      "source": [
        "type(df)"
      ],
      "metadata": {
        "colab": {
          "base_uri": "https://localhost:8080/"
        },
        "id": "SLSwoLbUHKaV",
        "outputId": "6b74c22b-0e0c-480b-9180-5c30082c238e"
      },
      "execution_count": null,
      "outputs": [
        {
          "output_type": "execute_result",
          "data": {
            "text/plain": [
              "pyspark.sql.dataframe.DataFrame"
            ]
          },
          "metadata": {},
          "execution_count": 11
        }
      ]
    },
    {
      "cell_type": "code",
      "source": [
        "df.count()"
      ],
      "metadata": {
        "colab": {
          "base_uri": "https://localhost:8080/"
        },
        "id": "p0ChPGXrJSKZ",
        "outputId": "881bd37a-683d-462f-db49-c140a528178a"
      },
      "execution_count": null,
      "outputs": [
        {
          "output_type": "execute_result",
          "data": {
            "text/plain": [
              "1000"
            ]
          },
          "metadata": {},
          "execution_count": 12
        }
      ]
    },
    {
      "cell_type": "code",
      "source": [
        "#sc.conf.set('spark.sql.repl.eagerEval.enabled', True)"
      ],
      "metadata": {
        "id": "oW9EVhotHO_F"
      },
      "execution_count": null,
      "outputs": []
    },
    {
      "cell_type": "code",
      "source": [
        "df"
      ],
      "metadata": {
        "colab": {
          "base_uri": "https://localhost:8080/",
          "height": 504
        },
        "id": "yNkRG4yRj81i",
        "outputId": "ad50656f-12a8-48a2-a407-4b35979bf53c"
      },
      "execution_count": null,
      "outputs": [
        {
          "output_type": "execute_result",
          "data": {
            "text/plain": [
              "DataFrame[Brand: string, Category: string, Color: string, Size: string, Material: string, Price: string]"
            ],
            "text/html": [
              "<table border='1'>\n",
              "<tr><th>Brand</th><th>Category</th><th>Color</th><th>Size</th><th>Material</th><th>Price</th></tr>\n",
              "<tr><td>New Balance</td><td>Dress</td><td>White</td><td>XS</td><td>Nylon</td><td>182</td></tr>\n",
              "<tr><td>New Balance</td><td>Jeans</td><td>Black</td><td>XS</td><td>Silk</td><td>57</td></tr>\n",
              "<tr><td>Under Armour</td><td>Dress</td><td>Red</td><td>M</td><td>Wool</td><td>127</td></tr>\n",
              "<tr><td>Nike</td><td>Shoes</td><td>Green</td><td>M</td><td>Cotton</td><td>77</td></tr>\n",
              "<tr><td>Adidas</td><td>Sweater</td><td>White</td><td>M</td><td>Nylon</td><td>113</td></tr>\n",
              "<tr><td>Reebok</td><td>Jacket</td><td>Red</td><td>XL</td><td>Nylon</td><td>19</td></tr>\n",
              "<tr><td>Puma</td><td>Jacket</td><td>Red</td><td>XXL</td><td>Polyester</td><td>31</td></tr>\n",
              "<tr><td>Adidas</td><td>Dress</td><td>Red</td><td>XS</td><td>Denim</td><td>46</td></tr>\n",
              "<tr><td>Reebok</td><td>Dress</td><td>Black</td><td>S</td><td>Wool</td><td>97</td></tr>\n",
              "<tr><td>Adidas</td><td>Jeans</td><td>Yellow</td><td>L</td><td>Wool</td><td>80</td></tr>\n",
              "<tr><td>Nike</td><td>Jacket</td><td>White</td><td>XL</td><td>Silk</td><td>98</td></tr>\n",
              "<tr><td>Puma</td><td>Jacket</td><td>White</td><td>XL</td><td>Silk</td><td>150</td></tr>\n",
              "<tr><td>Under Armour</td><td>Jacket</td><td>White</td><td>S</td><td>Nylon</td><td>68</td></tr>\n",
              "<tr><td>Under Armour</td><td>T-shirt</td><td>Blue</td><td>XL</td><td>Polyester</td><td>49</td></tr>\n",
              "<tr><td>New Balance</td><td>Jacket</td><td>Green</td><td>S</td><td>Nylon</td><td>97</td></tr>\n",
              "<tr><td>Under Armour</td><td>Jacket</td><td>Green</td><td>XXL</td><td>Silk</td><td>184</td></tr>\n",
              "<tr><td>New Balance</td><td>Jeans</td><td>Red</td><td>S</td><td>Cotton</td><td>98</td></tr>\n",
              "<tr><td>Reebok</td><td>Shoes</td><td>Blue</td><td>XS</td><td>Polyester</td><td>91</td></tr>\n",
              "<tr><td>Adidas</td><td>Jeans</td><td>Yellow</td><td>XL</td><td>Denim</td><td>175</td></tr>\n",
              "<tr><td>Puma</td><td>Shoes</td><td>Blue</td><td>XL</td><td>Wool</td><td>35</td></tr>\n",
              "</table>\n",
              "only showing top 20 rows\n"
            ]
          },
          "metadata": {},
          "execution_count": 21
        }
      ]
    },
    {
      "cell_type": "code",
      "source": [
        "df.columns"
      ],
      "metadata": {
        "colab": {
          "base_uri": "https://localhost:8080/"
        },
        "id": "cMt0vxAVHzVd",
        "outputId": "b6fb8a18-fab2-441c-ca91-1f4f00268789"
      },
      "execution_count": null,
      "outputs": [
        {
          "output_type": "execute_result",
          "data": {
            "text/plain": [
              "['Brand', 'Category', 'Color', 'Size', 'Material', 'Price']"
            ]
          },
          "metadata": {},
          "execution_count": 22
        }
      ]
    },
    {
      "cell_type": "code",
      "source": [
        "df_teste = df.select('Brand', 'Size', 'Price')"
      ],
      "metadata": {
        "id": "E11Ap27xk2n3"
      },
      "execution_count": null,
      "outputs": []
    },
    {
      "cell_type": "code",
      "source": [
        "df_teste.show(10)"
      ],
      "metadata": {
        "colab": {
          "base_uri": "https://localhost:8080/"
        },
        "id": "CDTd_xamk_Hj",
        "outputId": "f454441e-24be-47cc-d050-293b3c7f7f55"
      },
      "execution_count": null,
      "outputs": [
        {
          "output_type": "stream",
          "name": "stdout",
          "text": [
            "+------------+----+-----+\n",
            "|       Brand|Size|Price|\n",
            "+------------+----+-----+\n",
            "| New Balance|  XS|  182|\n",
            "| New Balance|  XS|   57|\n",
            "|Under Armour|   M|  127|\n",
            "|        Nike|   M|   77|\n",
            "|      Adidas|   M|  113|\n",
            "|      Reebok|  XL|   19|\n",
            "|        Puma| XXL|   31|\n",
            "|      Adidas|  XS|   46|\n",
            "|      Reebok|   S|   97|\n",
            "|      Adidas|   L|   80|\n",
            "+------------+----+-----+\n",
            "only showing top 10 rows\n",
            "\n"
          ]
        }
      ]
    },
    {
      "cell_type": "code",
      "source": [
        "df.select('Color', 'Size').show()"
      ],
      "metadata": {
        "colab": {
          "base_uri": "https://localhost:8080/"
        },
        "id": "nEAcXHxzkhlv",
        "outputId": "2278c56a-2463-4fd7-e6d3-09f7462ff9c9"
      },
      "execution_count": null,
      "outputs": [
        {
          "output_type": "stream",
          "name": "stdout",
          "text": [
            "+------+----+\n",
            "| Color|Size|\n",
            "+------+----+\n",
            "| White|  XS|\n",
            "| Black|  XS|\n",
            "|   Red|   M|\n",
            "| Green|   M|\n",
            "| White|   M|\n",
            "|   Red|  XL|\n",
            "|   Red| XXL|\n",
            "|   Red|  XS|\n",
            "| Black|   S|\n",
            "|Yellow|   L|\n",
            "| White|  XL|\n",
            "| White|  XL|\n",
            "| White|   S|\n",
            "|  Blue|  XL|\n",
            "| Green|   S|\n",
            "| Green| XXL|\n",
            "|   Red|   S|\n",
            "|  Blue|  XS|\n",
            "|Yellow|  XL|\n",
            "|  Blue|  XL|\n",
            "+------+----+\n",
            "only showing top 20 rows\n",
            "\n"
          ]
        }
      ]
    },
    {
      "cell_type": "code",
      "source": [
        "df.select('Brand','Price').describe().show()"
      ],
      "metadata": {
        "colab": {
          "base_uri": "https://localhost:8080/"
        },
        "id": "2K_z2672H1Oq",
        "outputId": "164b52f0-f09b-4c5d-8d92-67a965f34334"
      },
      "execution_count": null,
      "outputs": [
        {
          "output_type": "stream",
          "name": "stdout",
          "text": [
            "+-------+------------+-----------------+\n",
            "|summary|       Brand|            Price|\n",
            "+-------+------------+-----------------+\n",
            "|  count|        1000|             1000|\n",
            "|   mean|        null|          106.289|\n",
            "| stddev|        null|53.69544375158548|\n",
            "|    min|      Adidas|               10|\n",
            "|    max|Under Armour|               99|\n",
            "+-------+------------+-----------------+\n",
            "\n"
          ]
        }
      ]
    },
    {
      "cell_type": "code",
      "source": [
        "df.select(F.col('Brand'), F.col('Price')).describe().show()"
      ],
      "metadata": {
        "colab": {
          "base_uri": "https://localhost:8080/"
        },
        "id": "Cu62f_9GIRN4",
        "outputId": "f89e06e4-5d86-44a8-f03f-a9783631a869"
      },
      "execution_count": null,
      "outputs": [
        {
          "output_type": "stream",
          "name": "stdout",
          "text": [
            "+-------+------------+-----------------+\n",
            "|summary|       Brand|            Price|\n",
            "+-------+------------+-----------------+\n",
            "|  count|        1000|             1000|\n",
            "|   mean|        null|          106.289|\n",
            "| stddev|        null|53.69544375158548|\n",
            "|    min|      Adidas|               10|\n",
            "|    max|Under Armour|               99|\n",
            "+-------+------------+-----------------+\n",
            "\n"
          ]
        }
      ]
    },
    {
      "cell_type": "code",
      "source": [
        "#convertendo para um dataframe em pandas\n",
        "df_pd = df.toPandas()"
      ],
      "metadata": {
        "id": "TSHKsAPWIeeh"
      },
      "execution_count": null,
      "outputs": []
    },
    {
      "cell_type": "code",
      "source": [
        "df_pd.head()"
      ],
      "metadata": {
        "colab": {
          "base_uri": "https://localhost:8080/",
          "height": 206
        },
        "id": "k5RgSnpYI-GH",
        "outputId": "4885871d-c89f-4ffb-987f-6a36605c577e"
      },
      "execution_count": null,
      "outputs": [
        {
          "output_type": "execute_result",
          "data": {
            "text/plain": [
              "          Brand Category  Color Size Material Price\n",
              "0   New Balance    Dress  White   XS    Nylon   182\n",
              "1   New Balance    Jeans  Black   XS     Silk    57\n",
              "2  Under Armour    Dress    Red    M     Wool   127\n",
              "3          Nike    Shoes  Green    M   Cotton    77\n",
              "4        Adidas  Sweater  White    M    Nylon   113"
            ],
            "text/html": [
              "\n",
              "  <div id=\"df-64d7bcc4-b2ff-403b-aba5-f2cc94b5cc9b\" class=\"colab-df-container\">\n",
              "    <div>\n",
              "<style scoped>\n",
              "    .dataframe tbody tr th:only-of-type {\n",
              "        vertical-align: middle;\n",
              "    }\n",
              "\n",
              "    .dataframe tbody tr th {\n",
              "        vertical-align: top;\n",
              "    }\n",
              "\n",
              "    .dataframe thead th {\n",
              "        text-align: right;\n",
              "    }\n",
              "</style>\n",
              "<table border=\"1\" class=\"dataframe\">\n",
              "  <thead>\n",
              "    <tr style=\"text-align: right;\">\n",
              "      <th></th>\n",
              "      <th>Brand</th>\n",
              "      <th>Category</th>\n",
              "      <th>Color</th>\n",
              "      <th>Size</th>\n",
              "      <th>Material</th>\n",
              "      <th>Price</th>\n",
              "    </tr>\n",
              "  </thead>\n",
              "  <tbody>\n",
              "    <tr>\n",
              "      <th>0</th>\n",
              "      <td>New Balance</td>\n",
              "      <td>Dress</td>\n",
              "      <td>White</td>\n",
              "      <td>XS</td>\n",
              "      <td>Nylon</td>\n",
              "      <td>182</td>\n",
              "    </tr>\n",
              "    <tr>\n",
              "      <th>1</th>\n",
              "      <td>New Balance</td>\n",
              "      <td>Jeans</td>\n",
              "      <td>Black</td>\n",
              "      <td>XS</td>\n",
              "      <td>Silk</td>\n",
              "      <td>57</td>\n",
              "    </tr>\n",
              "    <tr>\n",
              "      <th>2</th>\n",
              "      <td>Under Armour</td>\n",
              "      <td>Dress</td>\n",
              "      <td>Red</td>\n",
              "      <td>M</td>\n",
              "      <td>Wool</td>\n",
              "      <td>127</td>\n",
              "    </tr>\n",
              "    <tr>\n",
              "      <th>3</th>\n",
              "      <td>Nike</td>\n",
              "      <td>Shoes</td>\n",
              "      <td>Green</td>\n",
              "      <td>M</td>\n",
              "      <td>Cotton</td>\n",
              "      <td>77</td>\n",
              "    </tr>\n",
              "    <tr>\n",
              "      <th>4</th>\n",
              "      <td>Adidas</td>\n",
              "      <td>Sweater</td>\n",
              "      <td>White</td>\n",
              "      <td>M</td>\n",
              "      <td>Nylon</td>\n",
              "      <td>113</td>\n",
              "    </tr>\n",
              "  </tbody>\n",
              "</table>\n",
              "</div>\n",
              "    <div class=\"colab-df-buttons\">\n",
              "\n",
              "  <div class=\"colab-df-container\">\n",
              "    <button class=\"colab-df-convert\" onclick=\"convertToInteractive('df-64d7bcc4-b2ff-403b-aba5-f2cc94b5cc9b')\"\n",
              "            title=\"Convert this dataframe to an interactive table.\"\n",
              "            style=\"display:none;\">\n",
              "\n",
              "  <svg xmlns=\"http://www.w3.org/2000/svg\" height=\"24px\" viewBox=\"0 -960 960 960\">\n",
              "    <path d=\"M120-120v-720h720v720H120Zm60-500h600v-160H180v160Zm220 220h160v-160H400v160Zm0 220h160v-160H400v160ZM180-400h160v-160H180v160Zm440 0h160v-160H620v160ZM180-180h160v-160H180v160Zm440 0h160v-160H620v160Z\"/>\n",
              "  </svg>\n",
              "    </button>\n",
              "\n",
              "  <style>\n",
              "    .colab-df-container {\n",
              "      display:flex;\n",
              "      gap: 12px;\n",
              "    }\n",
              "\n",
              "    .colab-df-convert {\n",
              "      background-color: #E8F0FE;\n",
              "      border: none;\n",
              "      border-radius: 50%;\n",
              "      cursor: pointer;\n",
              "      display: none;\n",
              "      fill: #1967D2;\n",
              "      height: 32px;\n",
              "      padding: 0 0 0 0;\n",
              "      width: 32px;\n",
              "    }\n",
              "\n",
              "    .colab-df-convert:hover {\n",
              "      background-color: #E2EBFA;\n",
              "      box-shadow: 0px 1px 2px rgba(60, 64, 67, 0.3), 0px 1px 3px 1px rgba(60, 64, 67, 0.15);\n",
              "      fill: #174EA6;\n",
              "    }\n",
              "\n",
              "    .colab-df-buttons div {\n",
              "      margin-bottom: 4px;\n",
              "    }\n",
              "\n",
              "    [theme=dark] .colab-df-convert {\n",
              "      background-color: #3B4455;\n",
              "      fill: #D2E3FC;\n",
              "    }\n",
              "\n",
              "    [theme=dark] .colab-df-convert:hover {\n",
              "      background-color: #434B5C;\n",
              "      box-shadow: 0px 1px 3px 1px rgba(0, 0, 0, 0.15);\n",
              "      filter: drop-shadow(0px 1px 2px rgba(0, 0, 0, 0.3));\n",
              "      fill: #FFFFFF;\n",
              "    }\n",
              "  </style>\n",
              "\n",
              "    <script>\n",
              "      const buttonEl =\n",
              "        document.querySelector('#df-64d7bcc4-b2ff-403b-aba5-f2cc94b5cc9b button.colab-df-convert');\n",
              "      buttonEl.style.display =\n",
              "        google.colab.kernel.accessAllowed ? 'block' : 'none';\n",
              "\n",
              "      async function convertToInteractive(key) {\n",
              "        const element = document.querySelector('#df-64d7bcc4-b2ff-403b-aba5-f2cc94b5cc9b');\n",
              "        const dataTable =\n",
              "          await google.colab.kernel.invokeFunction('convertToInteractive',\n",
              "                                                    [key], {});\n",
              "        if (!dataTable) return;\n",
              "\n",
              "        const docLinkHtml = 'Like what you see? Visit the ' +\n",
              "          '<a target=\"_blank\" href=https://colab.research.google.com/notebooks/data_table.ipynb>data table notebook</a>'\n",
              "          + ' to learn more about interactive tables.';\n",
              "        element.innerHTML = '';\n",
              "        dataTable['output_type'] = 'display_data';\n",
              "        await google.colab.output.renderOutput(dataTable, element);\n",
              "        const docLink = document.createElement('div');\n",
              "        docLink.innerHTML = docLinkHtml;\n",
              "        element.appendChild(docLink);\n",
              "      }\n",
              "    </script>\n",
              "  </div>\n",
              "\n",
              "\n",
              "<div id=\"df-3b46664f-f6d6-4a49-80f9-686e230992df\">\n",
              "  <button class=\"colab-df-quickchart\" onclick=\"quickchart('df-3b46664f-f6d6-4a49-80f9-686e230992df')\"\n",
              "            title=\"Suggest charts\"\n",
              "            style=\"display:none;\">\n",
              "\n",
              "<svg xmlns=\"http://www.w3.org/2000/svg\" height=\"24px\"viewBox=\"0 0 24 24\"\n",
              "     width=\"24px\">\n",
              "    <g>\n",
              "        <path d=\"M19 3H5c-1.1 0-2 .9-2 2v14c0 1.1.9 2 2 2h14c1.1 0 2-.9 2-2V5c0-1.1-.9-2-2-2zM9 17H7v-7h2v7zm4 0h-2V7h2v10zm4 0h-2v-4h2v4z\"/>\n",
              "    </g>\n",
              "</svg>\n",
              "  </button>\n",
              "\n",
              "<style>\n",
              "  .colab-df-quickchart {\n",
              "      --bg-color: #E8F0FE;\n",
              "      --fill-color: #1967D2;\n",
              "      --hover-bg-color: #E2EBFA;\n",
              "      --hover-fill-color: #174EA6;\n",
              "      --disabled-fill-color: #AAA;\n",
              "      --disabled-bg-color: #DDD;\n",
              "  }\n",
              "\n",
              "  [theme=dark] .colab-df-quickchart {\n",
              "      --bg-color: #3B4455;\n",
              "      --fill-color: #D2E3FC;\n",
              "      --hover-bg-color: #434B5C;\n",
              "      --hover-fill-color: #FFFFFF;\n",
              "      --disabled-bg-color: #3B4455;\n",
              "      --disabled-fill-color: #666;\n",
              "  }\n",
              "\n",
              "  .colab-df-quickchart {\n",
              "    background-color: var(--bg-color);\n",
              "    border: none;\n",
              "    border-radius: 50%;\n",
              "    cursor: pointer;\n",
              "    display: none;\n",
              "    fill: var(--fill-color);\n",
              "    height: 32px;\n",
              "    padding: 0;\n",
              "    width: 32px;\n",
              "  }\n",
              "\n",
              "  .colab-df-quickchart:hover {\n",
              "    background-color: var(--hover-bg-color);\n",
              "    box-shadow: 0 1px 2px rgba(60, 64, 67, 0.3), 0 1px 3px 1px rgba(60, 64, 67, 0.15);\n",
              "    fill: var(--button-hover-fill-color);\n",
              "  }\n",
              "\n",
              "  .colab-df-quickchart-complete:disabled,\n",
              "  .colab-df-quickchart-complete:disabled:hover {\n",
              "    background-color: var(--disabled-bg-color);\n",
              "    fill: var(--disabled-fill-color);\n",
              "    box-shadow: none;\n",
              "  }\n",
              "\n",
              "  .colab-df-spinner {\n",
              "    border: 2px solid var(--fill-color);\n",
              "    border-color: transparent;\n",
              "    border-bottom-color: var(--fill-color);\n",
              "    animation:\n",
              "      spin 1s steps(1) infinite;\n",
              "  }\n",
              "\n",
              "  @keyframes spin {\n",
              "    0% {\n",
              "      border-color: transparent;\n",
              "      border-bottom-color: var(--fill-color);\n",
              "      border-left-color: var(--fill-color);\n",
              "    }\n",
              "    20% {\n",
              "      border-color: transparent;\n",
              "      border-left-color: var(--fill-color);\n",
              "      border-top-color: var(--fill-color);\n",
              "    }\n",
              "    30% {\n",
              "      border-color: transparent;\n",
              "      border-left-color: var(--fill-color);\n",
              "      border-top-color: var(--fill-color);\n",
              "      border-right-color: var(--fill-color);\n",
              "    }\n",
              "    40% {\n",
              "      border-color: transparent;\n",
              "      border-right-color: var(--fill-color);\n",
              "      border-top-color: var(--fill-color);\n",
              "    }\n",
              "    60% {\n",
              "      border-color: transparent;\n",
              "      border-right-color: var(--fill-color);\n",
              "    }\n",
              "    80% {\n",
              "      border-color: transparent;\n",
              "      border-right-color: var(--fill-color);\n",
              "      border-bottom-color: var(--fill-color);\n",
              "    }\n",
              "    90% {\n",
              "      border-color: transparent;\n",
              "      border-bottom-color: var(--fill-color);\n",
              "    }\n",
              "  }\n",
              "</style>\n",
              "\n",
              "  <script>\n",
              "    async function quickchart(key) {\n",
              "      const quickchartButtonEl =\n",
              "        document.querySelector('#' + key + ' button');\n",
              "      quickchartButtonEl.disabled = true;  // To prevent multiple clicks.\n",
              "      quickchartButtonEl.classList.add('colab-df-spinner');\n",
              "      try {\n",
              "        const charts = await google.colab.kernel.invokeFunction(\n",
              "            'suggestCharts', [key], {});\n",
              "      } catch (error) {\n",
              "        console.error('Error during call to suggestCharts:', error);\n",
              "      }\n",
              "      quickchartButtonEl.classList.remove('colab-df-spinner');\n",
              "      quickchartButtonEl.classList.add('colab-df-quickchart-complete');\n",
              "    }\n",
              "    (() => {\n",
              "      let quickchartButtonEl =\n",
              "        document.querySelector('#df-3b46664f-f6d6-4a49-80f9-686e230992df button');\n",
              "      quickchartButtonEl.style.display =\n",
              "        google.colab.kernel.accessAllowed ? 'block' : 'none';\n",
              "    })();\n",
              "  </script>\n",
              "</div>\n",
              "\n",
              "    </div>\n",
              "  </div>\n"
            ]
          },
          "metadata": {},
          "execution_count": 29
        }
      ]
    },
    {
      "cell_type": "code",
      "source": [
        "type(df_pd)"
      ],
      "metadata": {
        "colab": {
          "base_uri": "https://localhost:8080/"
        },
        "id": "HqjPjJEEmPCy",
        "outputId": "d6564416-1aa0-4f5e-e614-86e4c462d427"
      },
      "execution_count": null,
      "outputs": [
        {
          "output_type": "execute_result",
          "data": {
            "text/plain": [
              "pandas.core.frame.DataFrame"
            ]
          },
          "metadata": {},
          "execution_count": 30
        }
      ]
    },
    {
      "cell_type": "code",
      "source": [
        "#convertendo para um dataframe spark\n",
        "df_spark = sc.createDataFrame(df_pd)\n",
        "df_spark.show()"
      ],
      "metadata": {
        "colab": {
          "base_uri": "https://localhost:8080/"
        },
        "id": "U21RwIDiIp1v",
        "outputId": "5a4f07c9-a248-423b-b8b2-cc7138dd58dc"
      },
      "execution_count": null,
      "outputs": [
        {
          "output_type": "stream",
          "name": "stderr",
          "text": [
            "/content/spark-3.1.1-bin-hadoop3.2/python/pyspark/sql/pandas/conversion.py:331: FutureWarning: iteritems is deprecated and will be removed in a future version. Use .items instead.\n",
            "  for column, series in pdf.iteritems():\n"
          ]
        },
        {
          "output_type": "stream",
          "name": "stdout",
          "text": [
            "+------------+--------+------+----+---------+-----+\n",
            "|       Brand|Category| Color|Size| Material|Price|\n",
            "+------------+--------+------+----+---------+-----+\n",
            "| New Balance|   Dress| White|  XS|    Nylon|  182|\n",
            "| New Balance|   Jeans| Black|  XS|     Silk|   57|\n",
            "|Under Armour|   Dress|   Red|   M|     Wool|  127|\n",
            "|        Nike|   Shoes| Green|   M|   Cotton|   77|\n",
            "|      Adidas| Sweater| White|   M|    Nylon|  113|\n",
            "|      Reebok|  Jacket|   Red|  XL|    Nylon|   19|\n",
            "|        Puma|  Jacket|   Red| XXL|Polyester|   31|\n",
            "|      Adidas|   Dress|   Red|  XS|    Denim|   46|\n",
            "|      Reebok|   Dress| Black|   S|     Wool|   97|\n",
            "|      Adidas|   Jeans|Yellow|   L|     Wool|   80|\n",
            "|        Nike|  Jacket| White|  XL|     Silk|   98|\n",
            "|        Puma|  Jacket| White|  XL|     Silk|  150|\n",
            "|Under Armour|  Jacket| White|   S|    Nylon|   68|\n",
            "|Under Armour| T-shirt|  Blue|  XL|Polyester|   49|\n",
            "| New Balance|  Jacket| Green|   S|    Nylon|   97|\n",
            "|Under Armour|  Jacket| Green| XXL|     Silk|  184|\n",
            "| New Balance|   Jeans|   Red|   S|   Cotton|   98|\n",
            "|      Reebok|   Shoes|  Blue|  XS|Polyester|   91|\n",
            "|      Adidas|   Jeans|Yellow|  XL|    Denim|  175|\n",
            "|        Puma|   Shoes|  Blue|  XL|     Wool|   35|\n",
            "+------------+--------+------+----+---------+-----+\n",
            "only showing top 20 rows\n",
            "\n"
          ]
        }
      ]
    },
    {
      "cell_type": "markdown",
      "source": [
        "## Começando as análises"
      ],
      "metadata": {
        "id": "Qc0KOhNRJrjD"
      }
    },
    {
      "cell_type": "code",
      "source": [
        "#selecionando valores distintos\n",
        "df.select('Brand').distinct().show()"
      ],
      "metadata": {
        "colab": {
          "base_uri": "https://localhost:8080/"
        },
        "id": "fJ8kPVQcNT1r",
        "outputId": "dd5190b1-bb11-4a7a-ffb9-08f893048aa9"
      },
      "execution_count": null,
      "outputs": [
        {
          "output_type": "stream",
          "name": "stdout",
          "text": [
            "+------------+\n",
            "|       Brand|\n",
            "+------------+\n",
            "|        Nike|\n",
            "|        Puma|\n",
            "|      Reebok|\n",
            "|Under Armour|\n",
            "|      Adidas|\n",
            "| New Balance|\n",
            "+------------+\n",
            "\n"
          ]
        }
      ]
    },
    {
      "cell_type": "code",
      "source": [
        "df.groupBy('Brand').count().orderBy('count', desc=True).show()"
      ],
      "metadata": {
        "colab": {
          "base_uri": "https://localhost:8080/"
        },
        "id": "L9EkHRl7JFzR",
        "outputId": "90110819-7e21-47a3-d909-1b82e5f49b3d"
      },
      "execution_count": null,
      "outputs": [
        {
          "output_type": "stream",
          "name": "stdout",
          "text": [
            "+------------+-----+\n",
            "|       Brand|count|\n",
            "+------------+-----+\n",
            "|      Reebok|  158|\n",
            "| New Balance|  164|\n",
            "|        Nike|  165|\n",
            "|      Adidas|  166|\n",
            "|        Puma|  168|\n",
            "|Under Armour|  179|\n",
            "+------------+-----+\n",
            "\n"
          ]
        }
      ]
    },
    {
      "cell_type": "code",
      "source": [
        "df.groupBy('Category').count().orderBy('count', desc=True).show()"
      ],
      "metadata": {
        "colab": {
          "base_uri": "https://localhost:8080/"
        },
        "id": "r2mimk9zNlFO",
        "outputId": "2964c6e0-d77b-4e8f-e0ed-c55527b34da2"
      },
      "execution_count": null,
      "outputs": [
        {
          "output_type": "stream",
          "name": "stdout",
          "text": [
            "+--------+-----+\n",
            "|Category|count|\n",
            "+--------+-----+\n",
            "| T-shirt|  144|\n",
            "| Sweater|  160|\n",
            "|   Dress|  166|\n",
            "|   Jeans|  167|\n",
            "|   Shoes|  172|\n",
            "|  Jacket|  191|\n",
            "+--------+-----+\n",
            "\n"
          ]
        }
      ]
    },
    {
      "cell_type": "code",
      "source": [
        "df.groupBy('Material').count().orderBy('count', desc=True).show()"
      ],
      "metadata": {
        "colab": {
          "base_uri": "https://localhost:8080/"
        },
        "id": "1MWUK5d9N_wL",
        "outputId": "c793d8b3-97b6-4590-faca-ea2211f3bc24"
      },
      "execution_count": null,
      "outputs": [
        {
          "output_type": "stream",
          "name": "stdout",
          "text": [
            "+---------+-----+\n",
            "| Material|count|\n",
            "+---------+-----+\n",
            "|    Nylon|  155|\n",
            "|   Cotton|  162|\n",
            "|    Denim|  163|\n",
            "|     Wool|  172|\n",
            "|     Silk|  173|\n",
            "|Polyester|  175|\n",
            "+---------+-----+\n",
            "\n"
          ]
        }
      ]
    },
    {
      "cell_type": "code",
      "source": [
        "df.groupBy('Brand').agg(F.avg(F.col('Price'))).show()"
      ],
      "metadata": {
        "colab": {
          "base_uri": "https://localhost:8080/"
        },
        "id": "WFZpHQq9SsJD",
        "outputId": "00f26604-9225-4e38-ec95-9c4d50f0e2c7"
      },
      "execution_count": null,
      "outputs": [
        {
          "output_type": "stream",
          "name": "stdout",
          "text": [
            "+------------+------------------+\n",
            "|       Brand|        avg(Price)|\n",
            "+------------+------------------+\n",
            "|        Nike| 101.9090909090909|\n",
            "|        Puma|106.13690476190476|\n",
            "|      Reebok|106.49367088607595|\n",
            "|Under Armour| 103.9608938547486|\n",
            "|      Adidas|104.05421686746988|\n",
            "| New Balance|115.45731707317073|\n",
            "+------------+------------------+\n",
            "\n"
          ]
        }
      ]
    },
    {
      "cell_type": "code",
      "source": [
        "df.select(F.mean('Price').alias('Preço médio')).show()"
      ],
      "metadata": {
        "colab": {
          "base_uri": "https://localhost:8080/"
        },
        "id": "V9IXpQKDULpQ",
        "outputId": "0c8dda23-ee63-4f52-ca6c-ef4e336a40dc"
      },
      "execution_count": null,
      "outputs": [
        {
          "output_type": "stream",
          "name": "stdout",
          "text": [
            "+-----------+\n",
            "|Preço médio|\n",
            "+-----------+\n",
            "|    106.289|\n",
            "+-----------+\n",
            "\n"
          ]
        }
      ]
    },
    {
      "cell_type": "code",
      "source": [
        "#groupBy\n",
        "df.groupBy('Size').count().show()"
      ],
      "metadata": {
        "colab": {
          "base_uri": "https://localhost:8080/"
        },
        "id": "glB9YRYvnF9L",
        "outputId": "91cbdfe9-988b-4407-89b4-6f855cf31822"
      },
      "execution_count": null,
      "outputs": [
        {
          "output_type": "stream",
          "name": "stdout",
          "text": [
            "+----+-----+\n",
            "|Size|count|\n",
            "+----+-----+\n",
            "|  XL|  167|\n",
            "|   M|  157|\n",
            "|   L|  141|\n",
            "|  XS|  196|\n",
            "|   S|  166|\n",
            "| XXL|  173|\n",
            "+----+-----+\n",
            "\n"
          ]
        }
      ]
    },
    {
      "cell_type": "code",
      "source": [
        "#filter\n",
        "df.filter(F.col('Brand') == 'New Balance').show()"
      ],
      "metadata": {
        "colab": {
          "base_uri": "https://localhost:8080/"
        },
        "id": "UAuledGVJrDZ",
        "outputId": "660f0439-18b0-4109-afbe-8075e3526012"
      },
      "execution_count": null,
      "outputs": [
        {
          "output_type": "stream",
          "name": "stdout",
          "text": [
            "+-----------+--------+------+----+---------+-----+\n",
            "|      Brand|Category| Color|Size| Material|Price|\n",
            "+-----------+--------+------+----+---------+-----+\n",
            "|New Balance|   Dress| White|  XS|    Nylon|  182|\n",
            "|New Balance|   Jeans| Black|  XS|     Silk|   57|\n",
            "|New Balance|  Jacket| Green|   S|    Nylon|   97|\n",
            "|New Balance|   Jeans|   Red|   S|   Cotton|   98|\n",
            "|New Balance|   Jeans| Green|   S|   Cotton|   82|\n",
            "|New Balance|   Shoes|  Blue|   M|   Cotton|   92|\n",
            "|New Balance|   Dress|Yellow|  XL|    Nylon|   39|\n",
            "|New Balance|   Shoes|  Blue|  XL|     Silk|  124|\n",
            "|New Balance|   Dress|   Red|   L|   Cotton|   44|\n",
            "|New Balance|  Jacket| White|  XS|     Silk|   27|\n",
            "|New Balance| Sweater| Black|   L|    Nylon|  142|\n",
            "|New Balance|  Jacket|   Red|  XL|   Cotton|   75|\n",
            "|New Balance| T-shirt| Black|   M|Polyester|  112|\n",
            "|New Balance| T-shirt|Yellow|  XL|     Wool|  152|\n",
            "|New Balance|   Dress|Yellow|  XS|     Silk|  150|\n",
            "|New Balance|   Dress| White| XXL|Polyester|   57|\n",
            "|New Balance|   Shoes|  Blue|   S|     Silk|  137|\n",
            "|New Balance|   Jeans| Black| XXL|     Wool|  127|\n",
            "|New Balance| Sweater|Yellow|   S|     Wool|   59|\n",
            "|New Balance| Sweater|   Red|   M|    Denim|  123|\n",
            "+-----------+--------+------+----+---------+-----+\n",
            "only showing top 20 rows\n",
            "\n"
          ]
        }
      ]
    },
    {
      "cell_type": "code",
      "source": [
        "#where\n",
        "df.where((F.col('Color') == 'White') & (F.col('Size') == 'XL')).show()"
      ],
      "metadata": {
        "colab": {
          "base_uri": "https://localhost:8080/"
        },
        "id": "zV0DNwxoprOL",
        "outputId": "20209ce2-7eaa-4bad-af1b-5c13e2226a72"
      },
      "execution_count": null,
      "outputs": [
        {
          "output_type": "stream",
          "name": "stdout",
          "text": [
            "+-----------+--------+-----+----+---------+-----+\n",
            "|      Brand|Category|Color|Size| Material|Price|\n",
            "+-----------+--------+-----+----+---------+-----+\n",
            "|       Nike|  Jacket|White|  XL|     Silk|   98|\n",
            "|       Puma|  Jacket|White|  XL|     Silk|  150|\n",
            "|       Nike|   Shoes|White|  XL|     Wool|  131|\n",
            "|       Nike| Sweater|White|  XL|     Silk|   68|\n",
            "|       Puma|  Jacket|White|  XL|   Cotton|  199|\n",
            "|     Reebok| T-shirt|White|  XL|     Silk|  111|\n",
            "|     Reebok| Sweater|White|  XL|    Denim|   83|\n",
            "|       Puma|   Dress|White|  XL|     Wool|  126|\n",
            "|       Nike|  Jacket|White|  XL|    Nylon|  146|\n",
            "|       Puma| Sweater|White|  XL|Polyester|   78|\n",
            "|     Adidas| Sweater|White|  XL|    Denim|   86|\n",
            "|New Balance| T-shirt|White|  XL|     Silk|  143|\n",
            "|       Nike| T-shirt|White|  XL|    Denim|  110|\n",
            "|       Nike| T-shirt|White|  XL|    Nylon|  171|\n",
            "|       Puma|   Dress|White|  XL|Polyester|  128|\n",
            "|     Reebok|  Jacket|White|  XL|     Wool|   58|\n",
            "|     Reebok| Sweater|White|  XL|   Cotton|  164|\n",
            "|     Adidas|   Jeans|White|  XL|     Silk|   33|\n",
            "|     Adidas| Sweater|White|  XL|   Cotton|   57|\n",
            "|New Balance|   Shoes|White|  XL|     Silk|   91|\n",
            "+-----------+--------+-----+----+---------+-----+\n",
            "\n"
          ]
        }
      ]
    },
    {
      "cell_type": "code",
      "source": [
        "#buscas específicas\n",
        "df.select('Brand', 'Category', 'Size').where(((F.col('Size') == 'XXL') | (F.col('Size') == 'L')) & (F.col('Brand') == 'Under Armour')).show()"
      ],
      "metadata": {
        "colab": {
          "base_uri": "https://localhost:8080/"
        },
        "id": "7oV4t8VEnzO8",
        "outputId": "2f5766a7-db47-4cf5-b0cf-03a4bb5557c3"
      },
      "execution_count": null,
      "outputs": [
        {
          "output_type": "stream",
          "name": "stdout",
          "text": [
            "+------------+--------+----+\n",
            "|       Brand|Category|Size|\n",
            "+------------+--------+----+\n",
            "|Under Armour|  Jacket| XXL|\n",
            "|Under Armour| T-shirt| XXL|\n",
            "|Under Armour|  Jacket| XXL|\n",
            "|Under Armour| Sweater|   L|\n",
            "|Under Armour|  Jacket| XXL|\n",
            "|Under Armour|  Jacket| XXL|\n",
            "|Under Armour|   Jeans| XXL|\n",
            "|Under Armour| T-shirt| XXL|\n",
            "|Under Armour|   Dress|   L|\n",
            "|Under Armour|  Jacket| XXL|\n",
            "|Under Armour|   Dress|   L|\n",
            "|Under Armour|  Jacket| XXL|\n",
            "|Under Armour|   Shoes|   L|\n",
            "|Under Armour| Sweater| XXL|\n",
            "|Under Armour|   Jeans| XXL|\n",
            "|Under Armour| T-shirt|   L|\n",
            "|Under Armour|  Jacket|   L|\n",
            "|Under Armour|  Jacket|   L|\n",
            "|Under Armour|   Shoes| XXL|\n",
            "|Under Armour|   Dress|   L|\n",
            "+------------+--------+----+\n",
            "only showing top 20 rows\n",
            "\n"
          ]
        }
      ]
    },
    {
      "cell_type": "code",
      "source": [
        "df.select('Brand', 'Category', 'Color', 'Size').where((F.col('Color') == 'White') & (F.col('Size') == 'XL')).show(truncate=False)"
      ],
      "metadata": {
        "colab": {
          "base_uri": "https://localhost:8080/"
        },
        "id": "bErFenbDmdwR",
        "outputId": "9153ab9b-f22a-46c9-99fd-cce0d4163db2"
      },
      "execution_count": null,
      "outputs": [
        {
          "output_type": "stream",
          "name": "stdout",
          "text": [
            "+-----------+--------+-----+----+\n",
            "|Brand      |Category|Color|Size|\n",
            "+-----------+--------+-----+----+\n",
            "|Nike       |Jacket  |White|XL  |\n",
            "|Puma       |Jacket  |White|XL  |\n",
            "|Nike       |Shoes   |White|XL  |\n",
            "|Nike       |Sweater |White|XL  |\n",
            "|Puma       |Jacket  |White|XL  |\n",
            "|Reebok     |T-shirt |White|XL  |\n",
            "|Reebok     |Sweater |White|XL  |\n",
            "|Puma       |Dress   |White|XL  |\n",
            "|Nike       |Jacket  |White|XL  |\n",
            "|Puma       |Sweater |White|XL  |\n",
            "|Adidas     |Sweater |White|XL  |\n",
            "|New Balance|T-shirt |White|XL  |\n",
            "|Nike       |T-shirt |White|XL  |\n",
            "|Nike       |T-shirt |White|XL  |\n",
            "|Puma       |Dress   |White|XL  |\n",
            "|Reebok     |Jacket  |White|XL  |\n",
            "|Reebok     |Sweater |White|XL  |\n",
            "|Adidas     |Jeans   |White|XL  |\n",
            "|Adidas     |Sweater |White|XL  |\n",
            "|New Balance|Shoes   |White|XL  |\n",
            "+-----------+--------+-----+----+\n",
            "\n"
          ]
        }
      ]
    },
    {
      "cell_type": "code",
      "source": [
        "#is in\n",
        "df.select('Brand','Category', 'Size', 'Material','Color').filter(F.col('Material').isin(['Cotton'])).show()"
      ],
      "metadata": {
        "colab": {
          "base_uri": "https://localhost:8080/"
        },
        "id": "QcOokBYgQKCi",
        "outputId": "e155a657-a5e2-4435-9d3d-a60b57b62829"
      },
      "execution_count": null,
      "outputs": [
        {
          "output_type": "stream",
          "name": "stdout",
          "text": [
            "+------------+--------+----+--------+------+\n",
            "|       Brand|Category|Size|Material| Color|\n",
            "+------------+--------+----+--------+------+\n",
            "|        Nike|   Shoes|   M|  Cotton| Green|\n",
            "| New Balance|   Jeans|   S|  Cotton|   Red|\n",
            "|        Puma| Sweater|   L|  Cotton|  Blue|\n",
            "| New Balance|   Jeans|   S|  Cotton| Green|\n",
            "| New Balance|   Shoes|   M|  Cotton|  Blue|\n",
            "|        Puma|   Shoes|   M|  Cotton| Black|\n",
            "| New Balance|   Dress|   L|  Cotton|   Red|\n",
            "|Under Armour|  Jacket| XXL|  Cotton| Black|\n",
            "|        Puma|   Shoes|  XL|  Cotton|Yellow|\n",
            "|      Adidas|   Shoes| XXL|  Cotton| Green|\n",
            "|Under Armour|  Jacket| XXL|  Cotton|Yellow|\n",
            "| New Balance|  Jacket|  XL|  Cotton|   Red|\n",
            "|Under Armour|  Jacket|   M|  Cotton| White|\n",
            "|Under Armour|   Dress|   S|  Cotton| Black|\n",
            "|        Nike|   Shoes|   L|  Cotton| White|\n",
            "|      Reebok| Sweater|  XS|  Cotton| White|\n",
            "|Under Armour|   Jeans|  XL|  Cotton|Yellow|\n",
            "|Under Armour|   Dress|   L|  Cotton|  Blue|\n",
            "|Under Armour| Sweater|  XS|  Cotton|  Blue|\n",
            "|        Nike|  Jacket|   S|  Cotton|Yellow|\n",
            "+------------+--------+----+--------+------+\n",
            "only showing top 20 rows\n",
            "\n"
          ]
        }
      ]
    },
    {
      "cell_type": "code",
      "source": [
        "#like\n",
        "df.select('Brand', 'Size', 'Color').where((F.col('Color')).like('%Blue%')).show()"
      ],
      "metadata": {
        "colab": {
          "base_uri": "https://localhost:8080/"
        },
        "id": "trmcwGDyQS7x",
        "outputId": "1796a558-c39f-4aaf-8835-109f1f6d0923"
      },
      "execution_count": null,
      "outputs": [
        {
          "output_type": "stream",
          "name": "stdout",
          "text": [
            "+------------+----+-----+\n",
            "|       Brand|Size|Color|\n",
            "+------------+----+-----+\n",
            "|Under Armour|  XL| Blue|\n",
            "|      Reebok|  XS| Blue|\n",
            "|        Puma|  XL| Blue|\n",
            "|        Puma|   L| Blue|\n",
            "| New Balance|   M| Blue|\n",
            "|      Reebok|   M| Blue|\n",
            "| New Balance|  XL| Blue|\n",
            "|      Adidas| XXL| Blue|\n",
            "|        Puma| XXL| Blue|\n",
            "|Under Armour| XXL| Blue|\n",
            "|Under Armour|   L| Blue|\n",
            "| New Balance|   S| Blue|\n",
            "|      Reebok|   L| Blue|\n",
            "|Under Armour|  XS| Blue|\n",
            "|        Puma|   S| Blue|\n",
            "|        Puma|   L| Blue|\n",
            "|        Nike| XXL| Blue|\n",
            "|      Reebok|  XS| Blue|\n",
            "| New Balance|  XS| Blue|\n",
            "|Under Armour| XXL| Blue|\n",
            "+------------+----+-----+\n",
            "only showing top 20 rows\n",
            "\n"
          ]
        }
      ]
    },
    {
      "cell_type": "code",
      "source": [
        "#between\n",
        "df.select('Price', 'Brand', 'Material').where(F.col('Price').between(100,300)).show()"
      ],
      "metadata": {
        "colab": {
          "base_uri": "https://localhost:8080/"
        },
        "id": "bHtTga49RA6o",
        "outputId": "f8a300b9-80a5-4dcc-9db2-faa65ffe0e0f"
      },
      "execution_count": null,
      "outputs": [
        {
          "output_type": "stream",
          "name": "stdout",
          "text": [
            "+-----+------------+---------+\n",
            "|Price|       Brand| Material|\n",
            "+-----+------------+---------+\n",
            "|  182| New Balance|    Nylon|\n",
            "|  127|Under Armour|     Wool|\n",
            "|  113|      Adidas|    Nylon|\n",
            "|  150|        Puma|     Silk|\n",
            "|  184|Under Armour|     Silk|\n",
            "|  175|      Adidas|    Denim|\n",
            "|  158|        Puma|     Wool|\n",
            "|  125|        Puma|    Denim|\n",
            "|  185|      Adidas|Polyester|\n",
            "|  109|      Adidas|    Denim|\n",
            "|  187|      Reebok|    Denim|\n",
            "|  157|      Reebok|     Wool|\n",
            "|  157|      Reebok|    Nylon|\n",
            "|  152|        Puma|   Cotton|\n",
            "|  177|Under Armour|Polyester|\n",
            "|  195|Under Armour|    Nylon|\n",
            "|  137|        Nike|     Silk|\n",
            "|  161|      Adidas|    Nylon|\n",
            "|  173|      Adidas|    Nylon|\n",
            "|  124| New Balance|     Silk|\n",
            "+-----+------------+---------+\n",
            "only showing top 20 rows\n",
            "\n"
          ]
        }
      ]
    },
    {
      "cell_type": "markdown",
      "source": [
        "## Manipulação de dados"
      ],
      "metadata": {
        "id": "SCHrpUGURG0C"
      }
    },
    {
      "cell_type": "code",
      "source": [
        "#renomear colunas\n",
        "df = df.withColumnRenamed('Category', 'categoria')\n",
        "df.show(5)"
      ],
      "metadata": {
        "colab": {
          "base_uri": "https://localhost:8080/"
        },
        "id": "7oRY3AkwRDDs",
        "outputId": "b939e13e-19ff-4ffa-a99c-37e992b00e4c"
      },
      "execution_count": null,
      "outputs": [
        {
          "output_type": "stream",
          "name": "stdout",
          "text": [
            "+------------+---------+-----+----+--------+-----+\n",
            "|       Brand|categoria|Color|Size|Material|Price|\n",
            "+------------+---------+-----+----+--------+-----+\n",
            "| New Balance|    Dress|White|  XS|   Nylon|  182|\n",
            "| New Balance|    Jeans|Black|  XS|    Silk|   57|\n",
            "|Under Armour|    Dress|  Red|   M|    Wool|  127|\n",
            "|        Nike|    Shoes|Green|   M|  Cotton|   77|\n",
            "|      Adidas|  Sweater|White|   M|   Nylon|  113|\n",
            "+------------+---------+-----+----+--------+-----+\n",
            "only showing top 5 rows\n",
            "\n"
          ]
        }
      ]
    },
    {
      "cell_type": "code",
      "source": [
        "#outra forma\n",
        "novo_nome = ['marca', 'categoria', 'cor', 'tamanho', 'material', 'preco']\n",
        "novo_df = df.toDF(*novo_nome)\n",
        "novo_df.show()"
      ],
      "metadata": {
        "colab": {
          "base_uri": "https://localhost:8080/"
        },
        "id": "M-9BRBF5Rlnp",
        "outputId": "51cf1bd4-3d61-4ed0-8eb0-ced76a97216a"
      },
      "execution_count": null,
      "outputs": [
        {
          "output_type": "stream",
          "name": "stdout",
          "text": [
            "+------------+---------+------+-------+---------+-----+\n",
            "|       marca|categoria|   cor|tamanho| material|preco|\n",
            "+------------+---------+------+-------+---------+-----+\n",
            "| New Balance|    Dress| White|     XS|    Nylon|  182|\n",
            "| New Balance|    Jeans| Black|     XS|     Silk|   57|\n",
            "|Under Armour|    Dress|   Red|      M|     Wool|  127|\n",
            "|        Nike|    Shoes| Green|      M|   Cotton|   77|\n",
            "|      Adidas|  Sweater| White|      M|    Nylon|  113|\n",
            "|      Reebok|   Jacket|   Red|     XL|    Nylon|   19|\n",
            "|        Puma|   Jacket|   Red|    XXL|Polyester|   31|\n",
            "|      Adidas|    Dress|   Red|     XS|    Denim|   46|\n",
            "|      Reebok|    Dress| Black|      S|     Wool|   97|\n",
            "|      Adidas|    Jeans|Yellow|      L|     Wool|   80|\n",
            "|        Nike|   Jacket| White|     XL|     Silk|   98|\n",
            "|        Puma|   Jacket| White|     XL|     Silk|  150|\n",
            "|Under Armour|   Jacket| White|      S|    Nylon|   68|\n",
            "|Under Armour|  T-shirt|  Blue|     XL|Polyester|   49|\n",
            "| New Balance|   Jacket| Green|      S|    Nylon|   97|\n",
            "|Under Armour|   Jacket| Green|    XXL|     Silk|  184|\n",
            "| New Balance|    Jeans|   Red|      S|   Cotton|   98|\n",
            "|      Reebok|    Shoes|  Blue|     XS|Polyester|   91|\n",
            "|      Adidas|    Jeans|Yellow|     XL|    Denim|  175|\n",
            "|        Puma|    Shoes|  Blue|     XL|     Wool|   35|\n",
            "+------------+---------+------+-------+---------+-----+\n",
            "only showing top 20 rows\n",
            "\n"
          ]
        }
      ]
    },
    {
      "cell_type": "code",
      "source": [
        "#criar coluna nova com condição\n",
        "df.withColumn('Flag_preco', F.when((F.col('Price') > 100), 'CARO').otherwise(F.lit('BARATO'))).show(10)"
      ],
      "metadata": {
        "colab": {
          "base_uri": "https://localhost:8080/"
        },
        "id": "JEUZfJmhP8ZS",
        "outputId": "65d3fbc2-05ac-46ce-c042-11d13e452aed"
      },
      "execution_count": null,
      "outputs": [
        {
          "output_type": "stream",
          "name": "stdout",
          "text": [
            "+------------+---------+------+----+---------+-----+----------+\n",
            "|       Brand|categoria| Color|Size| Material|Price|Flag_preco|\n",
            "+------------+---------+------+----+---------+-----+----------+\n",
            "| New Balance|    Dress| White|  XS|    Nylon|  182|      CARO|\n",
            "| New Balance|    Jeans| Black|  XS|     Silk|   57|    BARATO|\n",
            "|Under Armour|    Dress|   Red|   M|     Wool|  127|      CARO|\n",
            "|        Nike|    Shoes| Green|   M|   Cotton|   77|    BARATO|\n",
            "|      Adidas|  Sweater| White|   M|    Nylon|  113|      CARO|\n",
            "|      Reebok|   Jacket|   Red|  XL|    Nylon|   19|    BARATO|\n",
            "|        Puma|   Jacket|   Red| XXL|Polyester|   31|    BARATO|\n",
            "|      Adidas|    Dress|   Red|  XS|    Denim|   46|    BARATO|\n",
            "|      Reebok|    Dress| Black|   S|     Wool|   97|    BARATO|\n",
            "|      Adidas|    Jeans|Yellow|   L|     Wool|   80|    BARATO|\n",
            "+------------+---------+------+----+---------+-----+----------+\n",
            "only showing top 10 rows\n",
            "\n"
          ]
        }
      ]
    },
    {
      "cell_type": "code",
      "source": [
        "#filtrando nulos\n",
        "df_limpo = df.dropna()"
      ],
      "metadata": {
        "id": "znawMAhXLzGR"
      },
      "execution_count": null,
      "outputs": []
    },
    {
      "cell_type": "code",
      "source": [
        "df_limpo.show()"
      ],
      "metadata": {
        "colab": {
          "base_uri": "https://localhost:8080/"
        },
        "id": "Kc_1BzLMt74X",
        "outputId": "33da74f6-ad78-45b9-fa78-a1f5d242f8b8"
      },
      "execution_count": null,
      "outputs": [
        {
          "output_type": "stream",
          "name": "stdout",
          "text": [
            "+------------+---------+------+----+---------+-----+\n",
            "|       Brand|categoria| Color|Size| Material|Price|\n",
            "+------------+---------+------+----+---------+-----+\n",
            "| New Balance|    Dress| White|  XS|    Nylon|  182|\n",
            "| New Balance|    Jeans| Black|  XS|     Silk|   57|\n",
            "|Under Armour|    Dress|   Red|   M|     Wool|  127|\n",
            "|        Nike|    Shoes| Green|   M|   Cotton|   77|\n",
            "|      Adidas|  Sweater| White|   M|    Nylon|  113|\n",
            "|      Reebok|   Jacket|   Red|  XL|    Nylon|   19|\n",
            "|        Puma|   Jacket|   Red| XXL|Polyester|   31|\n",
            "|      Adidas|    Dress|   Red|  XS|    Denim|   46|\n",
            "|      Reebok|    Dress| Black|   S|     Wool|   97|\n",
            "|      Adidas|    Jeans|Yellow|   L|     Wool|   80|\n",
            "|        Nike|   Jacket| White|  XL|     Silk|   98|\n",
            "|        Puma|   Jacket| White|  XL|     Silk|  150|\n",
            "|Under Armour|   Jacket| White|   S|    Nylon|   68|\n",
            "|Under Armour|  T-shirt|  Blue|  XL|Polyester|   49|\n",
            "| New Balance|   Jacket| Green|   S|    Nylon|   97|\n",
            "|Under Armour|   Jacket| Green| XXL|     Silk|  184|\n",
            "| New Balance|    Jeans|   Red|   S|   Cotton|   98|\n",
            "|      Reebok|    Shoes|  Blue|  XS|Polyester|   91|\n",
            "|      Adidas|    Jeans|Yellow|  XL|    Denim|  175|\n",
            "|        Puma|    Shoes|  Blue|  XL|     Wool|   35|\n",
            "+------------+---------+------+----+---------+-----+\n",
            "only showing top 20 rows\n",
            "\n"
          ]
        }
      ]
    },
    {
      "cell_type": "code",
      "source": [
        "#outra opção\n",
        "df_limpo = df.filter(df.Brand.isNotNull())"
      ],
      "metadata": {
        "id": "RAaPAF7LPjBp"
      },
      "execution_count": null,
      "outputs": []
    },
    {
      "cell_type": "code",
      "source": [
        "df.fillna({'Brand': 'sem marca', 'Price': 106}).show()"
      ],
      "metadata": {
        "id": "M8_T6Xn1T14u"
      },
      "execution_count": null,
      "outputs": []
    },
    {
      "cell_type": "code",
      "source": [
        "#removendo duplicados\n",
        "df_limpo2 = df.dropDuplicates()"
      ],
      "metadata": {
        "id": "s0Ms-H3OPk0_"
      },
      "execution_count": null,
      "outputs": []
    },
    {
      "cell_type": "code",
      "source": [],
      "metadata": {
        "id": "CSaqzClPToM9"
      },
      "execution_count": null,
      "outputs": []
    },
    {
      "cell_type": "markdown",
      "source": [
        "# Modelagem"
      ],
      "metadata": {
        "id": "MIoagdJIWTll"
      }
    },
    {
      "cell_type": "code",
      "source": [],
      "metadata": {
        "id": "laQT8M8NWX0b"
      },
      "execution_count": null,
      "outputs": []
    }
  ]
}